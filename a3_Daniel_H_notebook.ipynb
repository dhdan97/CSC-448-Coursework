{
  "cells": [
    {
      "cell_type": "markdown",
      "metadata": {
        "id": "view-in-github",
        "colab_type": "text"
      },
      "source": [
        "<a href=\"https://colab.research.google.com/github/dhdan97/CSC-488-Coursework/blob/main/a3_Daniel_H_notebook.ipynb\" target=\"_parent\"><img src=\"https://colab.research.google.com/assets/colab-badge.svg\" alt=\"Open In Colab\"/></a>"
      ]
    },
    {
      "cell_type": "markdown",
      "metadata": {
        "id": "Wxt0KLthb_M6"
      },
      "source": [
        "<a href=\"https://colab.research.google.com/github/dhdan97/CSC-488-Coursework/blob/main/a3_Daniel_H_notebook.ipynb\" target=\"_parent\"><img src=\"https://colab.research.google.com/assets/colab-badge.svg\" alt=\"Open In Colab\"/></a>\n",
        "\n",
        "\\(\\^Be sure to update this button to point to your notebook instead of the sample notebook\\)"
      ]
    },
    {
      "cell_type": "code",
      "execution_count": 26,
      "metadata": {
        "id": "ifXoXwMpb_M9",
        "outputId": "ab61e9ba-69c0-4dfc-87a9-08f9da12f61c",
        "colab": {
          "base_uri": "https://localhost:8080/",
          "height": 373
        }
      },
      "outputs": [
        {
          "output_type": "error",
          "ename": "ModuleNotFoundError",
          "evalue": "ignored",
          "traceback": [
            "\u001b[0;31m---------------------------------------------------------------------------\u001b[0m",
            "\u001b[0;31mModuleNotFoundError\u001b[0m                       Traceback (most recent call last)",
            "\u001b[0;32m<ipython-input-26-78e07c5069c1>\u001b[0m in \u001b[0;36m<module>\u001b[0;34m()\u001b[0m\n\u001b[1;32m      1\u001b[0m \u001b[0;31m# Imports section\u001b[0m\u001b[0;34m\u001b[0m\u001b[0;34m\u001b[0m\u001b[0;34m\u001b[0m\u001b[0m\n\u001b[0;32m----> 2\u001b[0;31m \u001b[0;32mfrom\u001b[0m \u001b[0msigfig\u001b[0m \u001b[0;32mimport\u001b[0m \u001b[0mround\u001b[0m\u001b[0;34m\u001b[0m\u001b[0;34m\u001b[0m\u001b[0m\n\u001b[0m\u001b[1;32m      3\u001b[0m \u001b[0;32mimport\u001b[0m \u001b[0mpandas\u001b[0m \u001b[0;32mas\u001b[0m \u001b[0mpd\u001b[0m\u001b[0;34m\u001b[0m\u001b[0;34m\u001b[0m\u001b[0m\n\u001b[1;32m      4\u001b[0m \u001b[0;32mfrom\u001b[0m \u001b[0msklearn\u001b[0m\u001b[0;34m.\u001b[0m\u001b[0mmodel_selection\u001b[0m \u001b[0;32mimport\u001b[0m \u001b[0mtrain_test_split\u001b[0m\u001b[0;34m\u001b[0m\u001b[0;34m\u001b[0m\u001b[0m\n\u001b[1;32m      5\u001b[0m \u001b[0;32mfrom\u001b[0m \u001b[0msklearn\u001b[0m\u001b[0;34m.\u001b[0m\u001b[0mlinear_model\u001b[0m \u001b[0;32mimport\u001b[0m \u001b[0mLinearRegression\u001b[0m\u001b[0;34m\u001b[0m\u001b[0;34m\u001b[0m\u001b[0m\n",
            "\u001b[0;31mModuleNotFoundError\u001b[0m: No module named 'sigfig'",
            "",
            "\u001b[0;31m---------------------------------------------------------------------------\u001b[0;32m\nNOTE: If your import is failing due to a missing package, you can\nmanually install dependencies using either !pip or !apt.\n\nTo view examples of installing some common dependencies, click the\n\"Open Examples\" button below.\n\u001b[0;31m---------------------------------------------------------------------------\u001b[0m\n"
          ],
          "errorDetails": {
            "actions": [
              {
                "action": "open_url",
                "actionText": "Open Examples",
                "url": "/notebooks/snippets/importing_libraries.ipynb"
              }
            ]
          }
        }
      ],
      "source": [
        "# Imports section\n",
        "import pandas as pd\n",
        "from sklearn.model_selection import train_test_split\n",
        "from sklearn.linear_model import LinearRegression"
      ]
    },
    {
      "cell_type": "markdown",
      "metadata": {
        "id": "y7sm7wJXb_M-"
      },
      "source": [
        "## Part 1. Loading the dataset"
      ]
    },
    {
      "cell_type": "code",
      "execution_count": 5,
      "metadata": {
        "id": "IJEcuCQpb_M_",
        "outputId": "2fb4458e-ac3a-4bab-9eb9-eecffa6d3c76",
        "colab": {
          "base_uri": "https://localhost:8080/"
        }
      },
      "outputs": [
        {
          "output_type": "stream",
          "name": "stdout",
          "text": [
            "    Temperature °C  Mols KCL     Size nm^3\n",
            "0              469       647  6.244743e+05\n",
            "1              403       694  5.779610e+05\n",
            "2              302       975  6.196847e+05\n",
            "3              779       916  1.460449e+06\n",
            "4              901        18  4.325726e+04\n",
            "5              545       637  7.124634e+05\n",
            "6              660       519  7.006960e+05\n",
            "7              143       869  2.718260e+05\n",
            "8               89       461  8.919803e+04\n",
            "9              294       776  4.770210e+05\n",
            "10             991       117  2.441771e+05\n",
            "11             307       781  5.006455e+05\n",
            "12             206        70  3.145200e+04\n",
            "13             437       599  5.390215e+05\n",
            "14             566        75  9.185271e+04\n",
            "<class 'pandas.core.frame.DataFrame'>\n",
            "RangeIndex: 1000 entries, 0 to 999\n",
            "Data columns (total 3 columns):\n",
            " #   Column          Non-Null Count  Dtype  \n",
            "---  ------          --------------  -----  \n",
            " 0   Temperature °C  1000 non-null   int64  \n",
            " 1   Mols KCL        1000 non-null   int64  \n",
            " 2   Size nm^3       1000 non-null   float64\n",
            "dtypes: float64(1), int64(2)\n",
            "memory usage: 23.6 KB\n"
          ]
        }
      ],
      "source": [
        "# Using pandas load the dataset (load remotely, not locally)\n",
        "Slime = pd.read_csv(\"https://raw.githubusercontent.com/profmcnich/example_notebook/main/science_data_large.csv\")\n",
        "# Output the first 15 rows of the data\n",
        "print(Slime.head(15))\n",
        "# Display a summary of the table information (number of datapoints, etc.)\n",
        "Slime.info()"
      ]
    },
    {
      "cell_type": "markdown",
      "metadata": {
        "id": "j-03VcBXb_M_"
      },
      "source": [
        "## Part 2. Splitting the dataset"
      ]
    },
    {
      "cell_type": "code",
      "execution_count": 10,
      "metadata": {
        "id": "kPLsRTFRb_M_"
      },
      "outputs": [],
      "source": [
        "# Take the pandas dataset and split it into our features (X) and label (y)\n",
        "X = Slime[['Temperature °C', 'Mols KCL']]\n",
        "y = Slime['Size nm^3']\n",
        "# Use sklearn to split the features and labels into a training/test set. (90% train, 10% test)\n",
        "X_train, X_test, y_train, y_test = train_test_split(X, y, test_size=0.10, random_state=42)"
      ]
    },
    {
      "cell_type": "markdown",
      "metadata": {
        "id": "ryGeaMv8b_NA"
      },
      "source": [
        "## Part 3. Perform a Linear Regression"
      ]
    },
    {
      "cell_type": "code",
      "execution_count": 41,
      "metadata": {
        "id": "RKWsRbEmb_NA",
        "outputId": "06175df2-0e15-484c-a090-c05420d93159",
        "colab": {
          "base_uri": "https://localhost:8080/"
        }
      },
      "outputs": [
        {
          "output_type": "stream",
          "name": "stdout",
          "text": [
            "With Temperature of 469°C and 647 Mols of KCL, our model predicts a size of 6.6498e+05 nm^3\n",
            "Given our test features and labels, our score is: 0.85525\n"
          ]
        }
      ],
      "source": [
        "import warnings\n",
        "\n",
        "# Use sklearn to train a model on the training set\n",
        "reg = LinearRegression().fit(X_train, y_train)\n",
        "# Create a sample datapoint and predict the output of that sample with the trained model\n",
        "sample = [[469, 647]]\n",
        "with warnings.catch_warnings(record=True): samplePrediction = str(\"{:#.5g}\".format((reg.predict(sample)[0])))\n",
        "print(\"With Temperature of 469°C and 647 Mols of KCL, our model predicts a size of \" + samplePrediction + \" nm^3\")\n",
        "# Report on the score for that model, in your own words (markdown, not code) explain what the score means\n",
        "print(\"Given our test features and labels, our score is: \" + str(\"{:#.5g}\".format(reg.score(X_test,y_test))))"
      ]
    },
    {
      "cell_type": "code",
      "source": [
        "# Extract the coefficents and intercept from the model and write an equation for your h(x) using LaTeX"
      ],
      "metadata": {
        "id": "Z322BKbOvwQe"
      },
      "execution_count": null,
      "outputs": []
    },
    {
      "cell_type": "markdown",
      "metadata": {
        "id": "pSRAuCL1b_NB"
      },
      "source": [
        "Sample equation: $E = mc^2$"
      ]
    },
    {
      "cell_type": "markdown",
      "metadata": {
        "id": "kH54SDdgb_NB"
      },
      "source": [
        "## Part 4. Use Cross Validation"
      ]
    },
    {
      "cell_type": "code",
      "execution_count": null,
      "metadata": {
        "id": "T9pqIW4Cb_NC"
      },
      "outputs": [],
      "source": [
        "# Use the cross_val_score function to repeat your experiment across many shuffles of the data\n",
        "\n",
        "# Report on their finding and their significance"
      ]
    },
    {
      "cell_type": "markdown",
      "metadata": {
        "id": "0qa9kaXYb_NC"
      },
      "source": [
        "## Part 5. Using Polynomial Regression"
      ]
    },
    {
      "cell_type": "code",
      "execution_count": null,
      "metadata": {
        "id": "XKBaOLRFb_NC"
      },
      "outputs": [],
      "source": [
        "# Using the PolynomialFeatures library perform another regression on an augmented dataset of degree 2\n",
        "\n",
        "# Report on the metrics and output the resultant equation as you did in Part 3."
      ]
    }
  ],
  "metadata": {
    "kernelspec": {
      "display_name": "Python 3",
      "language": "python",
      "name": "python3"
    },
    "language_info": {
      "codemirror_mode": {
        "name": "ipython",
        "version": 3
      },
      "file_extension": ".py",
      "mimetype": "text/x-python",
      "name": "python",
      "nbconvert_exporter": "python",
      "pygments_lexer": "ipython3",
      "version": "3.7.4"
    },
    "colab": {
      "name": "a3_Daniel_H_notebook.ipynb",
      "provenance": [],
      "include_colab_link": true
    }
  },
  "nbformat": 4,
  "nbformat_minor": 0
}