{
  "cells": [
    {
      "cell_type": "markdown",
      "metadata": {
        "id": "view-in-github",
        "colab_type": "text"
      },
      "source": [
        "<a href=\"https://colab.research.google.com/github/dhdan97/CSC-488-Coursework/blob/main/a3_Daniel_H_notebook.ipynb\" target=\"_parent\"><img src=\"https://colab.research.google.com/assets/colab-badge.svg\" alt=\"Open In Colab\"/></a>"
      ]
    },
    {
      "cell_type": "markdown",
      "metadata": {
        "id": "Wxt0KLthb_M6"
      },
      "source": [
        "<a href=\"https://colab.research.google.com/github/dhdan97/CSC-488-Coursework/blob/main/a3_Daniel_H_notebook.ipynb\" target=\"_parent\"><img src=\"https://colab.research.google.com/assets/colab-badge.svg\" alt=\"Open In Colab\"/></a>\n",
        "\n",
        "\\(\\^Be sure to update this button to point to your notebook instead of the sample notebook\\)"
      ]
    },
    {
      "cell_type": "code",
      "execution_count": null,
      "metadata": {
        "id": "ifXoXwMpb_M9"
      },
      "outputs": [],
      "source": [
        "# Imports section"
      ]
    },
    {
      "cell_type": "markdown",
      "metadata": {
        "id": "y7sm7wJXb_M-"
      },
      "source": [
        "## Part 1. Loading the dataset"
      ]
    },
    {
      "cell_type": "code",
      "execution_count": null,
      "metadata": {
        "id": "IJEcuCQpb_M_"
      },
      "outputs": [],
      "source": [
        "# Using pandas load the dataset (load remotely, not locally)\n",
        "# Output the first 15 rows of the data\n",
        "# Display a summary of the table information (number of datapoints, etc.)"
      ]
    },
    {
      "cell_type": "markdown",
      "metadata": {
        "id": "j-03VcBXb_M_"
      },
      "source": [
        "## Part 2. Splitting the dataset"
      ]
    },
    {
      "cell_type": "code",
      "execution_count": null,
      "metadata": {
        "id": "kPLsRTFRb_M_"
      },
      "outputs": [],
      "source": [
        "# Take the pandas dataset and split it into our features (X) and label (y)\n",
        "\n",
        "# Use sklearn to split the features and labels into a training/test set. (90% train, 10% test)"
      ]
    },
    {
      "cell_type": "markdown",
      "metadata": {
        "id": "ryGeaMv8b_NA"
      },
      "source": [
        "## Part 3. Perform a Linear Regression"
      ]
    },
    {
      "cell_type": "code",
      "execution_count": null,
      "metadata": {
        "id": "RKWsRbEmb_NA"
      },
      "outputs": [],
      "source": [
        "# Use sklearn to train a model on the training set\n",
        "\n",
        "# Create a sample datapoint and predict the output of that sample with the trained model\n",
        "\n",
        "# Report on the score for that model, in your own words (markdown, not code) explain what the score means\n",
        "\n",
        "# Extract the coefficents and intercept from the model and write an equation for your h(x) using LaTeX"
      ]
    },
    {
      "cell_type": "markdown",
      "metadata": {
        "id": "pSRAuCL1b_NB"
      },
      "source": [
        "Sample equation: $E = mc^2$"
      ]
    },
    {
      "cell_type": "markdown",
      "metadata": {
        "id": "kH54SDdgb_NB"
      },
      "source": [
        "## Part 4. Use Cross Validation"
      ]
    },
    {
      "cell_type": "code",
      "execution_count": null,
      "metadata": {
        "id": "T9pqIW4Cb_NC"
      },
      "outputs": [],
      "source": [
        "# Use the cross_val_score function to repeat your experiment across many shuffles of the data\n",
        "\n",
        "# Report on their finding and their significance"
      ]
    },
    {
      "cell_type": "markdown",
      "metadata": {
        "id": "0qa9kaXYb_NC"
      },
      "source": [
        "## Part 5. Using Polynomial Regression"
      ]
    },
    {
      "cell_type": "code",
      "execution_count": null,
      "metadata": {
        "id": "XKBaOLRFb_NC"
      },
      "outputs": [],
      "source": [
        "# Using the PolynomialFeatures library perform another regression on an augmented dataset of degree 2\n",
        "\n",
        "# Report on the metrics and output the resultant equation as you did in Part 3."
      ]
    }
  ],
  "metadata": {
    "kernelspec": {
      "display_name": "Python 3",
      "language": "python",
      "name": "python3"
    },
    "language_info": {
      "codemirror_mode": {
        "name": "ipython",
        "version": 3
      },
      "file_extension": ".py",
      "mimetype": "text/x-python",
      "name": "python",
      "nbconvert_exporter": "python",
      "pygments_lexer": "ipython3",
      "version": "3.7.4"
    },
    "colab": {
      "name": "a3_Daniel_H_notebook.ipynb",
      "provenance": [],
      "include_colab_link": true
    }
  },
  "nbformat": 4,
  "nbformat_minor": 0
}